{
 "cells": [
  {
   "cell_type": "markdown",
   "id": "4b0804a5-5ec0-4dad-bcf2-0b5acad68941",
   "metadata": {},
   "source": [
    "## A-matrix method for measurement error mitigation"
   ]
  },
  {
   "cell_type": "markdown",
   "id": "47f3ea0a-49cf-45b1-ad2c-7a89d5c8ca58",
   "metadata": {},
   "source": [
    "### Ritajit Majumdar\n",
    "Research Scientist @ IBM Quantum"
   ]
  },
  {
   "cell_type": "markdown",
   "id": "3ebee839-21cb-482a-9067-69b6cb7299f5",
   "metadata": {},
   "source": [
    "### Requirements\n",
    "\n",
    "Before starting this tutorial, be sure you have the following installed:\n",
    "\n",
    "- Qiskit SDK 2.0 or later with visualization support (`pip install qiskit[visualization]`)\n",
    "- Qiskit Aer 0.17 or later (`pip install qiskit-aer`)\n",
    "- Qiskit Runtime 0.38 or later (`pip install qiskit-ibm-runtime`)"
   ]
  },
  {
   "cell_type": "code",
   "execution_count": 1,
   "id": "88bea03f-180d-43b3-8508-e4febe11d346",
   "metadata": {},
   "outputs": [
    {
     "data": {
      "image/png": "[encoded data removed]",
      "text/plain": [
       "<Figure size 580.387x284.278 with 1 Axes>"
      ]
     },
     "execution_count": 1,
     "metadata": {},
     "output_type": "execute_result"
    }
   ],
   "source": [
    "from qiskit.circuit import QuantumCircuit, Parameter\n",
    "theta = Parameter('θ')\n",
    "\n",
    "qc = QuantumCircuit(2)\n",
    "qc.rx(theta, 0)\n",
    "qc.cx(0,1)\n",
    "qc.measure_all()\n",
    "qc.draw('mpl')"
   ]
  },
  {
   "cell_type": "code",
   "execution_count": 2,
   "id": "b3217fdb-61b8-42e1-a962-1cc99915a902",
   "metadata": {},
   "outputs": [
    {
     "data": {
      "text/plain": [
       "SparsePauliOp(['ZZ'],\n",
       "              coeffs=[1.+0.j])"
      ]
     },
     "execution_count": 2,
     "metadata": {},
     "output_type": "execute_result"
    }
   ],
   "source": [
    "from qiskit.quantum_info import SparsePauliOp\n",
    "observable_zz = SparsePauliOp('ZZ')\n",
    "observable_zz"
   ]
  },
  {
   "cell_type": "markdown",
   "id": "e4c34749-ce2c-4e95-922f-81b63b99f1df",
   "metadata": {},
   "source": [
    "#### Create a backend with measurement noise"
   ]
  },
  {
   "cell_type": "code",
   "execution_count": 3,
   "id": "0d25aaa9-3d24-448b-8efd-21961d26069a",
   "metadata": {},
   "outputs": [],
   "source": [
    "from qiskit_aer.noise import NoiseModel, ReadoutError\n",
    "noise_model = NoiseModel()"
   ]
  },
  {
   "cell_type": "code",
   "execution_count": 4,
   "id": "2b1b6450-367a-446d-9a96-86ee72176c4d",
   "metadata": {},
   "outputs": [
    {
     "data": {
      "text/plain": [
       "[[0.99, 0.02], [0.01, 0.98]]"
      ]
     },
     "execution_count": 4,
     "metadata": {},
     "output_type": "execute_result"
    }
   ],
   "source": [
    "p0g1 = 0.02\n",
    "p1g0 = 0.01\n",
    "\n",
    "a_matrix = [[1-p1g0, p0g1], [p1g0, 1-p0g1]]\n",
    "a_matrix"
   ]
  },
  {
   "cell_type": "code",
   "execution_count": 5,
   "id": "4824bf9c-bc4a-45b2-8b98-55f7f315b01e",
   "metadata": {},
   "outputs": [
    {
     "data": {
      "text/plain": [
       "ReadoutError([[0.99 0.01]\n",
       " [0.02 0.98]])"
      ]
     },
     "execution_count": 5,
     "metadata": {},
     "output_type": "execute_result"
    }
   ],
   "source": [
    "from numpy import transpose\n",
    "roerror = ReadoutError(transpose(a_matrix))\n",
    "roerror"
   ]
  },
  {
   "cell_type": "code",
   "execution_count": 6,
   "id": "60bdb6f5-680c-48cc-9ef9-1237ccddd145",
   "metadata": {},
   "outputs": [
    {
     "data": {
      "text/plain": [
       "AerSimulator('aer_simulator'\n",
       "             noise_model=<NoiseModel on ['measure']>)"
      ]
     },
     "execution_count": 6,
     "metadata": {},
     "output_type": "execute_result"
    }
   ],
   "source": [
    "from qiskit_aer import AerSimulator\n",
    "noise_model.add_all_qubit_readout_error(roerror)\n",
    "simulator = AerSimulator(noise_model=noise_model)\n",
    "simulator"
   ]
  },
  {
   "cell_type": "markdown",
   "id": "55ef804f-b24d-40af-809d-a8fdf6de8cec",
   "metadata": {},
   "source": [
    "#### Obtain noisy counts and expvals"
   ]
  },
  {
   "cell_type": "code",
   "execution_count": 7,
   "id": "8c029c1a-8b11-43be-b08a-72abe564f38a",
   "metadata": {},
   "outputs": [],
   "source": [
    "from qiskit_ibm_runtime import SamplerV2\n",
    "sampler = SamplerV2(mode=simulator)\n",
    "sampler.options.default_shots = 1000"
   ]
  },
  {
   "cell_type": "code",
   "execution_count": 8,
   "id": "c0a54544-daba-4237-9271-8f742f0980df",
   "metadata": {},
   "outputs": [
    {
     "data": {
      "text/plain": [
       "{'00': 755, '11': 225, '01': 8, '10': 12}"
      ]
     },
     "execution_count": 8,
     "metadata": {},
     "output_type": "execute_result"
    }
   ],
   "source": [
    "from numpy import pi\n",
    "pub = (qc, pi/3)\n",
    "\n",
    "noisy_job = sampler.run([pub])\n",
    "noisy_result = noisy_job.result()[0]\n",
    "noisy_counts = noisy_result.data.meas.get_counts()\n",
    "noisy_counts"
   ]
  },
  {
   "cell_type": "code",
   "execution_count": 9,
   "id": "7beec1a9-4652-4005-b30d-e386f51e1703",
   "metadata": {},
   "outputs": [
    {
     "data": {
      "text/plain": [
       "0.96"
      ]
     },
     "execution_count": 9,
     "metadata": {},
     "output_type": "execute_result"
    }
   ],
   "source": [
    "from qiskit.result import sampled_expectation_value\n",
    "noisy_expval = sampled_expectation_value(noisy_counts, observable_zz)\n",
    "noisy_expval"
   ]
  },
  {
   "cell_type": "markdown",
   "id": "10a48f1c-966a-4501-99c1-2282b6f30e58",
   "metadata": {},
   "source": [
    "#### Mitigation"
   ]
  },
  {
   "cell_type": "code",
   "execution_count": 10,
   "id": "9844d53f-0097-4d90-a7d0-8115a3769c3c",
   "metadata": {},
   "outputs": [
    {
     "data": {
      "text/plain": [
       "[0.755, 0.008, 0.012, 0.225]"
      ]
     },
     "execution_count": 10,
     "metadata": {},
     "output_type": "execute_result"
    }
   ],
   "source": [
    "noisy_prob = [noisy_counts['00']/1000,\n",
    "             noisy_counts['01']/1000,\n",
    "             noisy_counts['10']/1000,\n",
    "             noisy_counts['11']/1000]\n",
    "noisy_prob"
   ]
  },
  {
   "cell_type": "code",
   "execution_count": 11,
   "id": "e11ccc7b-c78f-4d38-b298-7e3db7759de5",
   "metadata": {},
   "outputs": [
    {
     "data": {
      "text/plain": [
       "array([[9.801e-01, 1.980e-02, 1.980e-02, 4.000e-04],\n",
       "       [9.900e-03, 9.702e-01, 2.000e-04, 1.960e-02],\n",
       "       [9.900e-03, 2.000e-04, 9.702e-01, 1.960e-02],\n",
       "       [1.000e-04, 9.800e-03, 9.800e-03, 9.604e-01]])"
      ]
     },
     "execution_count": 11,
     "metadata": {},
     "output_type": "execute_result"
    }
   ],
   "source": [
    "from numpy import kron\n",
    "A_mat = kron(a_matrix, a_matrix)\n",
    "A_mat"
   ]
  },
  {
   "cell_type": "code",
   "execution_count": 12,
   "id": "98df0150-26b3-42d7-930a-536c25495e65",
   "metadata": {},
   "outputs": [
    {
     "data": {
      "text/plain": [
       "array([[ 1.02072484e+00, -2.08311191e-02, -2.08311191e-02,\n",
       "         4.25124880e-04],\n",
       "       [-1.04155596e-02,  1.03114040e+00,  2.12562440e-04,\n",
       "        -2.10436816e-02],\n",
       "       [-1.04155596e-02,  2.12562440e-04,  1.03114040e+00,\n",
       "        -2.10436816e-02],\n",
       "       [ 1.06281220e-04, -1.05218408e-02, -1.05218408e-02,\n",
       "         1.04166224e+00]])"
      ]
     },
     "execution_count": 12,
     "metadata": {},
     "output_type": "execute_result"
    }
   ],
   "source": [
    "from numpy.linalg import inv\n",
    "A_mat_inv = inv(A_mat)\n",
    "A_mat_inv"
   ]
  },
  {
   "cell_type": "code",
   "execution_count": 13,
   "id": "5e75b371-6269-4488-9a18-e66560705e61",
   "metadata": {},
   "outputs": [
    {
     "data": {
      "text/plain": [
       "array([ 7.70326283e-01, -4.34690190e-03, -2.23190562e-04,  2.34243809e-01])"
      ]
     },
     "execution_count": 13,
     "metadata": {},
     "output_type": "execute_result"
    }
   ],
   "source": [
    "from numpy import dot\n",
    "mitigated_quasi = dot(A_mat_inv, noisy_prob)\n",
    "mitigated_quasi"
   ]
  },
  {
   "cell_type": "code",
   "execution_count": 14,
   "id": "6ea88879-68e3-4e77-95a3-8149e4667844",
   "metadata": {},
   "outputs": [
    {
     "data": {
      "text/plain": [
       "{'00': 0.7703262833457327,\n",
       " '01': -0.00434690190243384,\n",
       " '10': -0.00022319056222765404,\n",
       " '11': 0.23424380911892873}"
      ]
     },
     "execution_count": 14,
     "metadata": {},
     "output_type": "execute_result"
    }
   ],
   "source": [
    "mitigated_counts = {'00': mitigated_quasi[0],\n",
    "                   '01': mitigated_quasi[1],\n",
    "                   '10': mitigated_quasi[2],\n",
    "                   '11': mitigated_quasi[3],}\n",
    "mitigated_counts"
   ]
  },
  {
   "cell_type": "code",
   "execution_count": 15,
   "id": "31c523a8-cf38-4991-bf35-92207d45ea48",
   "metadata": {},
   "outputs": [
    {
     "data": {
      "text/plain": [
       "1.009140184929323"
      ]
     },
     "execution_count": 15,
     "metadata": {},
     "output_type": "execute_result"
    }
   ],
   "source": [
    "mitigated_expval = sampled_expectation_value(mitigated_counts, observable_zz)\n",
    "mitigated_expval"
   ]
  },
  {
   "cell_type": "markdown",
   "id": "0b69606a-d370-4f7b-b63c-549316aa7175",
   "metadata": {},
   "source": [
    "### But how do I know the A-matrix?"
   ]
  },
  {
   "cell_type": "code",
   "execution_count": 16,
   "id": "32529206-bfdc-4f16-8b36-a01fa5e4dd90",
   "metadata": {},
   "outputs": [],
   "source": [
    "from qiskit_ibm_runtime.fake_provider import FakeKolkataV2\n",
    "backend = FakeKolkataV2()"
   ]
  },
  {
   "cell_type": "markdown",
   "id": "d919e67c-0a42-458f-9a74-4f25d4ba769a",
   "metadata": {},
   "source": [
    "#### Calibration"
   ]
  },
  {
   "cell_type": "code",
   "execution_count": 17,
   "id": "8c5d1c0c-a267-49d2-9a0e-681308ef4d51",
   "metadata": {},
   "outputs": [],
   "source": [
    "qc_0 = QuantumCircuit(2)\n",
    "qc_0.measure_all('mpl')\n",
    "\n",
    "qc_1 = QuantumCircuit(2)\n",
    "qc_1.x([0,1])\n",
    "qc_1.measure_all('mpl')"
   ]
  },
  {
   "cell_type": "code",
   "execution_count": 18,
   "id": "f8089661-d91d-446d-b505-dbd66708fc15",
   "metadata": {},
   "outputs": [],
   "source": [
    "from qiskit import generate_preset_pass_manager\n",
    "pm = generate_preset_pass_manager(optimization_level=3, backend=backend, initial_layout=[8,9])"
   ]
  },
  {
   "cell_type": "code",
   "execution_count": 19,
   "id": "27dce5ac-e801-464a-8657-dc2cb205e9cf",
   "metadata": {},
   "outputs": [],
   "source": [
    "isa_qcs = pm.run([qc_0, qc_1])"
   ]
  },
  {
   "cell_type": "code",
   "execution_count": 20,
   "id": "26f4ffd0-cdb2-4aea-87f8-9d936348539d",
   "metadata": {},
   "outputs": [],
   "source": [
    "sampler = SamplerV2(mode=backend)\n",
    "sampler.options.default_shots = 1000\n",
    "job = sampler.run(isa_qcs)"
   ]
  },
  {
   "cell_type": "code",
   "execution_count": 21,
   "id": "b7b84780-3bf4-47b1-98de-42f8d30b91a7",
   "metadata": {},
   "outputs": [
    {
     "data": {
      "text/plain": [
       "{'00': 985, '10': 10, '01': 5}"
      ]
     },
     "execution_count": 21,
     "metadata": {},
     "output_type": "execute_result"
    }
   ],
   "source": [
    "result_0 = job.result()[0]\n",
    "counts_0 = result_0.data.meas.get_counts()\n",
    "counts_0"
   ]
  },
  {
   "cell_type": "code",
   "execution_count": 22,
   "id": "9bdf41bd-610d-4876-92a0-75738cbf489c",
   "metadata": {},
   "outputs": [
    {
     "data": {
      "text/plain": [
       "{'11': 974, '01': 17, '10': 9}"
      ]
     },
     "execution_count": 22,
     "metadata": {},
     "output_type": "execute_result"
    }
   ],
   "source": [
    "result_1 = job.result()[1]\n",
    "counts_1 = result_1.data.meas.get_counts()\n",
    "counts_1"
   ]
  },
  {
   "cell_type": "markdown",
   "id": "40e77b52-a78e-4cb5-8384-8f93fa401c42",
   "metadata": {},
   "source": [
    "First let us work out the A-matrix for qubit 0 (i.e. physical qubit 8)"
   ]
  },
  {
   "cell_type": "code",
   "execution_count": 23,
   "id": "67714a46-09b6-4935-b44d-6ceac0936197",
   "metadata": {},
   "outputs": [],
   "source": [
    "from qiskit.result import marginal_counts\n",
    "p00 = marginal_counts(counts_0, indices=[0])\n",
    "p10 = marginal_counts(counts_1, indices=[0])"
   ]
  },
  {
   "cell_type": "code",
   "execution_count": 24,
   "id": "bf015be4-9594-4510-8dd5-790792895db9",
   "metadata": {},
   "outputs": [
    {
     "name": "stdout",
     "output_type": "stream",
     "text": [
      "{'0': 995, '1': 5}\n",
      "{'1': 991, '0': 9}\n"
     ]
    }
   ],
   "source": [
    "print(p00)\n",
    "print(p10)"
   ]
  },
  {
   "cell_type": "code",
   "execution_count": 25,
   "id": "3dade388-82f7-44de-ad9e-62c6177edbef",
   "metadata": {},
   "outputs": [
    {
     "name": "stdout",
     "output_type": "stream",
     "text": [
      "p1g0: 0.005\n",
      "p0g1: 0.009\n"
     ]
    }
   ],
   "source": [
    "p1g0 = p00['1']/1000\n",
    "p0g1 = p10['0']/1000\n",
    "\n",
    "print(f'p1g0: {p1g0}')\n",
    "print(f'p0g1: {p0g1}')"
   ]
  },
  {
   "cell_type": "code",
   "execution_count": 26,
   "id": "b19e72b8-6c81-4925-9c8b-6a08092f7518",
   "metadata": {},
   "outputs": [
    {
     "data": {
      "text/plain": [
       "[[0.995, 0.009], [0.005, 0.991]]"
      ]
     },
     "execution_count": 26,
     "metadata": {},
     "output_type": "execute_result"
    }
   ],
   "source": [
    "a_matrix_q0 = [[1-p1g0, p0g1], [p1g0, 1-p0g1]]\n",
    "a_matrix_q0"
   ]
  },
  {
   "cell_type": "markdown",
   "id": "b41c1ba8-ce5f-494f-b987-9d5cc2261e46",
   "metadata": {},
   "source": [
    "Now let us work out the A-matrix for qubit 1 (i.e. physical qubit 9)"
   ]
  },
  {
   "cell_type": "code",
   "execution_count": 27,
   "id": "f235e4fb-07b9-4602-bc30-69b2d95c3385",
   "metadata": {},
   "outputs": [],
   "source": [
    "p01 = marginal_counts(counts_0, indices=[1])\n",
    "p11 = marginal_counts(counts_1, indices=[1])"
   ]
  },
  {
   "cell_type": "code",
   "execution_count": 28,
   "id": "684fafa8-aebe-4213-b3a7-df291ccd48df",
   "metadata": {},
   "outputs": [
    {
     "name": "stdout",
     "output_type": "stream",
     "text": [
      "{'0': 990, '1': 10}\n",
      "{'1': 983, '0': 17}\n"
     ]
    }
   ],
   "source": [
    "print(p01)\n",
    "print(p11)"
   ]
  },
  {
   "cell_type": "code",
   "execution_count": 29,
   "id": "6faba994-af7b-4904-97d4-2a12b5a1e533",
   "metadata": {},
   "outputs": [
    {
     "name": "stdout",
     "output_type": "stream",
     "text": [
      "p1g0: 0.01\n",
      "p0g1: 0.017\n"
     ]
    }
   ],
   "source": [
    "p1g0 = p01['1']/1000\n",
    "p0g1 = p11['0']/1000\n",
    "\n",
    "print(f'p1g0: {p1g0}')\n",
    "print(f'p0g1: {p0g1}')"
   ]
  },
  {
   "cell_type": "code",
   "execution_count": 30,
   "id": "739a1a16-54ca-4fb5-a0d5-92df0126b663",
   "metadata": {},
   "outputs": [
    {
     "data": {
      "text/plain": [
       "[[0.99, 0.017], [0.01, 0.983]]"
      ]
     },
     "execution_count": 30,
     "metadata": {},
     "output_type": "execute_result"
    }
   ],
   "source": [
    "a_matrix_q1 = [[1-p1g0, p0g1], [p1g0, 1-p0g1]]\n",
    "a_matrix_q1"
   ]
  },
  {
   "cell_type": "code",
   "execution_count": 31,
   "id": "7a36499a-3941-4854-b826-6bcfe49e59aa",
   "metadata": {},
   "outputs": [
    {
     "data": {
      "text/plain": [
       "array([[9.85050e-01, 1.69150e-02, 8.91000e-03, 1.53000e-04],\n",
       "       [9.95000e-03, 9.78085e-01, 9.00000e-05, 8.84700e-03],\n",
       "       [4.95000e-03, 8.50000e-05, 9.81090e-01, 1.68470e-02],\n",
       "       [5.00000e-05, 4.91500e-03, 9.91000e-03, 9.74153e-01]])"
      ]
     },
     "execution_count": 31,
     "metadata": {},
     "output_type": "execute_result"
    }
   ],
   "source": [
    "A_mat = kron(a_matrix_q0, a_matrix_q1)\n",
    "A_mat"
   ]
  },
  {
   "cell_type": "code",
   "execution_count": 32,
   "id": "1abdfba2-4a9a-4d06-be30-b16ece345981",
   "metadata": {},
   "outputs": [
    {
     "data": {
      "text/plain": [
       "array([[ 1.01540060e+00, -1.75603360e-02, -9.22159983e-03,\n",
       "         1.59478329e-04],\n",
       "       [-1.03296094e-02,  1.02263133e+00,  9.38107816e-05,\n",
       "        -9.28726738e-03],\n",
       "       [-5.12311102e-03,  8.85990715e-05,  1.01949909e+00,\n",
       "        -1.76312152e-02],\n",
       "       [ 5.21171009e-05, -5.15959299e-03, -1.03713031e-02,\n",
       "         1.02675900e+00]])"
      ]
     },
     "execution_count": 32,
     "metadata": {},
     "output_type": "execute_result"
    }
   ],
   "source": [
    "A_mat_inv = inv(A_mat)\n",
    "A_mat_inv"
   ]
  },
  {
   "cell_type": "markdown",
   "id": "a39c3211-4af0-4231-bba5-dbdd747a2ba2",
   "metadata": {},
   "source": [
    "#### Let us run the same circuit on FakeKolkataV2 and perform the mitigation"
   ]
  },
  {
   "cell_type": "code",
   "execution_count": 33,
   "id": "611af971-30ec-463e-8c70-4bfb3fac4f07",
   "metadata": {},
   "outputs": [
    {
     "data": {
      "image/png": "[encoded data removed]",
      "text/plain": [
       "<Figure size 925.254x284.278 with 1 Axes>"
      ]
     },
     "execution_count": 33,
     "metadata": {},
     "output_type": "execute_result"
    }
   ],
   "source": [
    "isa_qc = pm.run(qc)\n",
    "isa_qc.draw('mpl', idle_wires=False)"
   ]
  },
  {
   "cell_type": "code",
   "execution_count": 34,
   "id": "64c73856-f71d-451f-a7ef-2e816ca83276",
   "metadata": {},
   "outputs": [
    {
     "data": {
      "text/plain": [
       "{'00': 742, '11': 239, '01': 11, '10': 8}"
      ]
     },
     "execution_count": 34,
     "metadata": {},
     "output_type": "execute_result"
    }
   ],
   "source": [
    "pub = (isa_qc, pi/3)\n",
    "\n",
    "noisy_job = sampler.run([pub])\n",
    "noisy_result = noisy_job.result()[0]\n",
    "noisy_counts = noisy_result.data.meas.get_counts()\n",
    "noisy_counts"
   ]
  },
  {
   "cell_type": "code",
   "execution_count": 35,
   "id": "f072ee99-741a-44e8-b9d3-2a89398bf7fb",
   "metadata": {},
   "outputs": [
    {
     "data": {
      "text/plain": [
       "0.962"
      ]
     },
     "execution_count": 35,
     "metadata": {},
     "output_type": "execute_result"
    }
   ],
   "source": [
    "noisy_expval = sampled_expectation_value(noisy_counts, observable_zz)\n",
    "noisy_expval"
   ]
  },
  {
   "cell_type": "code",
   "execution_count": 36,
   "id": "20ea312a-66dc-4164-a44c-3fd09b7ea138",
   "metadata": {},
   "outputs": [
    {
     "data": {
      "text/plain": [
       "[0.742, 0.011, 0.008, 0.239]"
      ]
     },
     "execution_count": 36,
     "metadata": {},
     "output_type": "execute_result"
    }
   ],
   "source": [
    "noisy_prob = [noisy_counts['00']/1000,\n",
    "             noisy_counts['01']/1000,\n",
    "             noisy_counts['10']/1000,\n",
    "             noisy_counts['11']/1000]\n",
    "noisy_prob"
   ]
  },
  {
   "cell_type": "code",
   "execution_count": 37,
   "id": "e693c19c-c605-4a11-aa78-ca3a8e6bcf78",
   "metadata": {},
   "outputs": [
    {
     "data": {
      "text/plain": [
       "array([7.53198426e-01, 1.36546804e-03, 1.41758514e-04, 2.45294347e-01])"
      ]
     },
     "execution_count": 37,
     "metadata": {},
     "output_type": "execute_result"
    }
   ],
   "source": [
    "mitigated_quasi = dot(A_mat_inv, noisy_prob)\n",
    "mitigated_quasi"
   ]
  },
  {
   "cell_type": "code",
   "execution_count": 38,
   "id": "3122f386-9d9c-4aa7-9a9a-7a6d4b931bf7",
   "metadata": {},
   "outputs": [
    {
     "data": {
      "text/plain": [
       "{'00': 0.7531984264804904,\n",
       " '01': 0.0013654680428360853,\n",
       " '10': 0.0001417585143707687,\n",
       " '11': 0.2452943469623027}"
      ]
     },
     "execution_count": 38,
     "metadata": {},
     "output_type": "execute_result"
    }
   ],
   "source": [
    "mitigated_counts = {'00': mitigated_quasi[0],\n",
    "                   '01': mitigated_quasi[1],\n",
    "                   '10': mitigated_quasi[2],\n",
    "                   '11': mitigated_quasi[3],}\n",
    "mitigated_counts"
   ]
  },
  {
   "cell_type": "code",
   "execution_count": 39,
   "id": "d7edd977-2a56-4d17-b7d8-d320917d2930",
   "metadata": {},
   "outputs": [
    {
     "data": {
      "text/plain": [
       "0.9969855468855863"
      ]
     },
     "execution_count": 39,
     "metadata": {},
     "output_type": "execute_result"
    }
   ],
   "source": [
    "mitigated_expval = sampled_expectation_value(mitigated_counts, observable_zz)\n",
    "mitigated_expval"
   ]
  },
  {
   "cell_type": "markdown",
   "id": "aeeaa39c-462b-40c7-8147-1741ef3646d8",
   "metadata": {},
   "source": [
    "**Summary**: Note that a backend is susceptible to many other types of noise apart from measurement error. These other types of noise start dominating when the circuits start getting bigger. We simply mitigated the effect of measurement error here. There are other techniques, such as ZNE, PEC, PEA, for mitigating the effect of other types of noise, which, when applied together with measurement error mitigation, can often retrieve results very close to the ideal value.\n",
    "\n",
    "**P.S.** Note that the A-matrix method is the simplest technique for error mitigation. There are other more advanced techniques, such as M3 and TREX, which are now in use for measurement error mitigation in IBM Quantum systems."
   ]
  },
  {
   "cell_type": "code",
   "execution_count": null,
   "id": "631a8545-40fb-4c8e-8555-c8c8a5e1b467",
   "metadata": {},
   "outputs": [],
   "source": []
  }
 ],
 "metadata": {
  "kernelspec": {
   "display_name": "Python 3 (ipykernel)",
   "language": "python",
   "name": "python3"
  },
  "language_info": {
   "codemirror_mode": {
    "name": "ipython",
    "version": 3
   },
   "file_extension": ".py",
   "mimetype": "text/x-python",
   "name": "python",
   "nbconvert_exporter": "python",
   "pygments_lexer": "ipython3",
   "version": "3.13.3"
  }
 },
 "nbformat": 4,
 "nbformat_minor": 5
}
