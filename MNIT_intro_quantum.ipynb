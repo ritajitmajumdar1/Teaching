{
 "cells": [
  {
   "cell_type": "markdown",
   "id": "cb18b624-e138-494e-8dd6-31a26ce63079",
   "metadata": {},
   "source": [
    "## Introduction to basics of quantum computing with Qiskit"
   ]
  },
  {
   "cell_type": "markdown",
   "id": "50754782-d7d8-4ff1-8b69-e9622a40f07c",
   "metadata": {},
   "source": [
    "### Ritajit Majumdar\n",
    "Research Scientist @ IBM Quantum"
   ]
  },
  {
   "cell_type": "markdown",
   "id": "9cab4ceb-a302-4e18-820c-e693cf10bb05",
   "metadata": {},
   "source": [
    "### Requirements\n",
    "\n",
    "Before starting this tutorial, be sure you have the following installed:\n",
    "\n",
    "- Qiskit SDK 2.0 or later with visualization support (`pip install qiskit[visualization]`)\n",
    "- Qiskit Aer 0.17 or later (`pip install qiskit-aer`)\n",
    "- Qiskit Runtime 0.38 or later (`pip install qiskit-ibm-runtime`)"
   ]
  },
  {
   "cell_type": "markdown",
   "id": "a554fd18-4956-4b7c-a77c-9606f592c972",
   "metadata": {},
   "source": [
    "Let us select a Bell state as our problem of interest"
   ]
  },
  {
   "cell_type": "code",
   "execution_count": 34,
   "id": "b6920429-eeb1-4281-88f1-0039070eaad8",
   "metadata": {},
   "outputs": [
    {
     "data": {
      "image/png": "[encoded data removed]",
      "text/plain": [
       "<Figure size 580.387x284.278 with 1 Axes>"
      ]
     },
     "execution_count": 34,
     "metadata": {},
     "output_type": "execute_result"
    }
   ],
   "source": [
    "from qiskit.circuit import QuantumCircuit, Parameter\n",
    "theta = Parameter('θ')\n",
    "\n",
    "qc = QuantumCircuit(2)\n",
    "qc.rx(theta, 0)\n",
    "qc.cx(0,1)\n",
    "qc.measure_all()\n",
    "qc.draw('mpl')"
   ]
  },
  {
   "cell_type": "markdown",
   "id": "2cdbdf95-85bf-4a18-ba1d-b48c68ab9534",
   "metadata": {},
   "source": [
    "### Obtaining the probability distribution: Introduction to Sampler"
   ]
  },
  {
   "cell_type": "markdown",
   "id": "90c7059d-68f2-46f2-8804-a286f4b634af",
   "metadata": {},
   "source": [
    "Qiskit Runtime offers two primitives - Sampler and Estimator. The former is used to obtain the probability distribution of a circuit. In this section, we shall see the usage of Sampler."
   ]
  },
  {
   "cell_type": "code",
   "execution_count": 35,
   "id": "5c5de001-69d3-43fe-9341-544d40c0af05",
   "metadata": {},
   "outputs": [
    {
     "data": {
      "text/plain": [
       "AerSimulator('aer_simulator')"
      ]
     },
     "execution_count": 35,
     "metadata": {},
     "output_type": "execute_result"
    }
   ],
   "source": [
    "from qiskit_aer import AerSimulator\n",
    "backend = AerSimulator()\n",
    "backend"
   ]
  },
  {
   "cell_type": "code",
   "execution_count": 36,
   "id": "da46aae1-483f-4ee0-bb07-ff5109513db0",
   "metadata": {},
   "outputs": [],
   "source": [
    "from qiskit_ibm_runtime import SamplerV2\n",
    "sampler = SamplerV2(mode=backend)\n",
    "sampler.options.default_shots = 1000"
   ]
  },
  {
   "cell_type": "markdown",
   "id": "f9c35817-7c0f-448e-a85a-8764ead80de1",
   "metadata": {},
   "source": [
    "We need to submit a list of `pubs (Primitive Unified Bloc)` for execution. A `pub` is a tuple `(circuit, observable, parameters)` -- the circuit is mandatory; the other two are included whenever required."
   ]
  },
  {
   "cell_type": "code",
   "execution_count": 37,
   "id": "0c50bd5d-bb0b-4926-b121-020321c9b842",
   "metadata": {},
   "outputs": [],
   "source": [
    "from numpy import pi\n",
    "pub = (qc, pi/3)"
   ]
  },
  {
   "cell_type": "code",
   "execution_count": 38,
   "id": "c4a328e7-659c-4b28-8d59-8a87273ff901",
   "metadata": {},
   "outputs": [
    {
     "data": {
      "text/plain": [
       "'2519cb15-9442-4082-96fe-44d7bb6ed980'"
      ]
     },
     "execution_count": 38,
     "metadata": {},
     "output_type": "execute_result"
    }
   ],
   "source": [
    "job = sampler.run([pub])\n",
    "job.job_id()"
   ]
  },
  {
   "cell_type": "markdown",
   "id": "b5355710-3969-4a10-8085-0ec0f1289a9d",
   "metadata": {},
   "source": [
    "Note that *job_id* is not useful for local simulation. But when you use real quantum device, you will most likely encounter a queue. So it is useful to keep the *job_id* handy. This way you can turn off / send to sleep mode your laptop while the program waits on queue, and gets executed. Once the result is ready, you can retrieve the job using this *job_id* and obtain the results."
   ]
  },
  {
   "cell_type": "code",
   "execution_count": 39,
   "id": "0caa1260-68d2-44c6-8100-690f4a77f3e8",
   "metadata": {},
   "outputs": [
    {
     "data": {
      "text/plain": [
       "SamplerPubResult(data=DataBin(meas=BitArray(<shape=(), num_shots=1000, num_bits=2>)), metadata={'shots': 1000, 'circuit_metadata': {}})"
      ]
     },
     "execution_count": 39,
     "metadata": {},
     "output_type": "execute_result"
    }
   ],
   "source": [
    "result = job.result()[0]\n",
    "result"
   ]
  },
  {
   "cell_type": "code",
   "execution_count": 40,
   "id": "2291728f-e1ee-4d4d-a6db-5cf563e0ba95",
   "metadata": {},
   "outputs": [
    {
     "data": {
      "text/plain": [
       "DataBin(meas=BitArray(<shape=(), num_shots=1000, num_bits=2>))"
      ]
     },
     "execution_count": 40,
     "metadata": {},
     "output_type": "execute_result"
    }
   ],
   "source": [
    "data = result.data\n",
    "data"
   ]
  },
  {
   "cell_type": "code",
   "execution_count": 41,
   "id": "7ee3a0bc-2a68-48d9-a608-dcd1d7e211f1",
   "metadata": {},
   "outputs": [
    {
     "data": {
      "text/plain": [
       "BitArray(<shape=(), num_shots=1000, num_bits=2>)"
      ]
     },
     "execution_count": 41,
     "metadata": {},
     "output_type": "execute_result"
    }
   ],
   "source": [
    "meas = data.meas\n",
    "meas"
   ]
  },
  {
   "cell_type": "code",
   "execution_count": 42,
   "id": "0b51fa7c-3222-4d04-b835-da9eb5d89ee8",
   "metadata": {},
   "outputs": [
    {
     "data": {
      "text/plain": [
       "{'00': 732, '11': 268}"
      ]
     },
     "execution_count": 42,
     "metadata": {},
     "output_type": "execute_result"
    }
   ],
   "source": [
    "counts = meas.get_counts()\n",
    "counts"
   ]
  },
  {
   "cell_type": "code",
   "execution_count": 43,
   "id": "a3f1a9f1-99ec-41d2-8348-a97e3ec220d1",
   "metadata": {
    "scrolled": true
   },
   "outputs": [
    {
     "data": {
      "text/plain": [
       "['00',\n",
       " '00',\n",
       " '11',\n",
       " '00',\n",
       " '11',\n",
       " '00',\n",
       " '11',\n",
       " '11',\n",
       " '00',\n",
       " '00',\n",
       " '11',\n",
       " '11',\n",
       " '11',\n",
       " '00',\n",
       " '11',\n",
       " '11',\n",
       " '11',\n",
       " '00',\n",
       " '00',\n",
       " '00',\n",
       " '00',\n",
       " '11',\n",
       " '00',\n",
       " '00',\n",
       " '11',\n",
       " '11',\n",
       " '00',\n",
       " '00',\n",
       " '00',\n",
       " '00',\n",
       " '00',\n",
       " '00',\n",
       " '00',\n",
       " '11',\n",
       " '00',\n",
       " '00',\n",
       " '00',\n",
       " '00',\n",
       " '00',\n",
       " '11',\n",
       " '00',\n",
       " '00',\n",
       " '11',\n",
       " '00',\n",
       " '00',\n",
       " '11',\n",
       " '11',\n",
       " '00',\n",
       " '00',\n",
       " '00',\n",
       " '00',\n",
       " '00',\n",
       " '00',\n",
       " '00',\n",
       " '11',\n",
       " '11',\n",
       " '00',\n",
       " '11',\n",
       " '00',\n",
       " '00',\n",
       " '11',\n",
       " '00',\n",
       " '00',\n",
       " '00',\n",
       " '00',\n",
       " '00',\n",
       " '00',\n",
       " '00',\n",
       " '00',\n",
       " '00',\n",
       " '00',\n",
       " '11',\n",
       " '11',\n",
       " '00',\n",
       " '00',\n",
       " '00',\n",
       " '11',\n",
       " '00',\n",
       " '00',\n",
       " '11',\n",
       " '00',\n",
       " '11',\n",
       " '00',\n",
       " '00',\n",
       " '00',\n",
       " '11',\n",
       " '00',\n",
       " '00',\n",
       " '00',\n",
       " '00',\n",
       " '11',\n",
       " '00',\n",
       " '11',\n",
       " '00',\n",
       " '11',\n",
       " '00',\n",
       " '00',\n",
       " '00',\n",
       " '11',\n",
       " '00',\n",
       " '00',\n",
       " '00',\n",
       " '00',\n",
       " '00',\n",
       " '11',\n",
       " '00',\n",
       " '00',\n",
       " '00',\n",
       " '00',\n",
       " '00',\n",
       " '11',\n",
       " '00',\n",
       " '11',\n",
       " '00',\n",
       " '11',\n",
       " '00',\n",
       " '00',\n",
       " '11',\n",
       " '00',\n",
       " '00',\n",
       " '11',\n",
       " '00',\n",
       " '00',\n",
       " '00',\n",
       " '00',\n",
       " '11',\n",
       " '00',\n",
       " '00',\n",
       " '00',\n",
       " '11',\n",
       " '00',\n",
       " '11',\n",
       " '00',\n",
       " '00',\n",
       " '00',\n",
       " '00',\n",
       " '00',\n",
       " '00',\n",
       " '11',\n",
       " '00',\n",
       " '00',\n",
       " '00',\n",
       " '00',\n",
       " '11',\n",
       " '00',\n",
       " '00',\n",
       " '00',\n",
       " '11',\n",
       " '00',\n",
       " '11',\n",
       " '00',\n",
       " '11',\n",
       " '00',\n",
       " '00',\n",
       " '00',\n",
       " '00',\n",
       " '00',\n",
       " '00',\n",
       " '00',\n",
       " '00',\n",
       " '00',\n",
       " '00',\n",
       " '00',\n",
       " '00',\n",
       " '00',\n",
       " '11',\n",
       " '11',\n",
       " '00',\n",
       " '00',\n",
       " '00',\n",
       " '11',\n",
       " '00',\n",
       " '00',\n",
       " '00',\n",
       " '11',\n",
       " '00',\n",
       " '00',\n",
       " '00',\n",
       " '00',\n",
       " '00',\n",
       " '00',\n",
       " '00',\n",
       " '00',\n",
       " '00',\n",
       " '00',\n",
       " '00',\n",
       " '00',\n",
       " '00',\n",
       " '00',\n",
       " '00',\n",
       " '00',\n",
       " '11',\n",
       " '00',\n",
       " '11',\n",
       " '00',\n",
       " '00',\n",
       " '11',\n",
       " '00',\n",
       " '00',\n",
       " '00',\n",
       " '00',\n",
       " '11',\n",
       " '00',\n",
       " '00',\n",
       " '00',\n",
       " '11',\n",
       " '00',\n",
       " '00',\n",
       " '00',\n",
       " '00',\n",
       " '11',\n",
       " '00',\n",
       " '11',\n",
       " '11',\n",
       " '11',\n",
       " '00',\n",
       " '00',\n",
       " '00',\n",
       " '00',\n",
       " '00',\n",
       " '00',\n",
       " '11',\n",
       " '11',\n",
       " '11',\n",
       " '11',\n",
       " '00',\n",
       " '00',\n",
       " '11',\n",
       " '00',\n",
       " '00',\n",
       " '00',\n",
       " '11',\n",
       " '00',\n",
       " '00',\n",
       " '00',\n",
       " '11',\n",
       " '11',\n",
       " '00',\n",
       " '00',\n",
       " '00',\n",
       " '11',\n",
       " '00',\n",
       " '00',\n",
       " '00',\n",
       " '00',\n",
       " '00',\n",
       " '11',\n",
       " '00',\n",
       " '00',\n",
       " '11',\n",
       " '00',\n",
       " '00',\n",
       " '00',\n",
       " '00',\n",
       " '00',\n",
       " '11',\n",
       " '00',\n",
       " '00',\n",
       " '00',\n",
       " '00',\n",
       " '00',\n",
       " '00',\n",
       " '00',\n",
       " '11',\n",
       " '00',\n",
       " '11',\n",
       " '00',\n",
       " '11',\n",
       " '00',\n",
       " '00',\n",
       " '00',\n",
       " '00',\n",
       " '00',\n",
       " '00',\n",
       " '11',\n",
       " '00',\n",
       " '00',\n",
       " '00',\n",
       " '00',\n",
       " '00',\n",
       " '00',\n",
       " '11',\n",
       " '00',\n",
       " '00',\n",
       " '00',\n",
       " '00',\n",
       " '11',\n",
       " '00',\n",
       " '00',\n",
       " '11',\n",
       " '11',\n",
       " '11',\n",
       " '11',\n",
       " '00',\n",
       " '00',\n",
       " '00',\n",
       " '00',\n",
       " '00',\n",
       " '11',\n",
       " '11',\n",
       " '00',\n",
       " '00',\n",
       " '11',\n",
       " '00',\n",
       " '11',\n",
       " '11',\n",
       " '00',\n",
       " '00',\n",
       " '11',\n",
       " '00',\n",
       " '11',\n",
       " '00',\n",
       " '11',\n",
       " '00',\n",
       " '00',\n",
       " '11',\n",
       " '00',\n",
       " '00',\n",
       " '00',\n",
       " '00',\n",
       " '00',\n",
       " '00',\n",
       " '00',\n",
       " '00',\n",
       " '00',\n",
       " '00',\n",
       " '00',\n",
       " '00',\n",
       " '00',\n",
       " '11',\n",
       " '00',\n",
       " '00',\n",
       " '00',\n",
       " '00',\n",
       " '11',\n",
       " '00',\n",
       " '00',\n",
       " '00',\n",
       " '00',\n",
       " '00',\n",
       " '00',\n",
       " '00',\n",
       " '00',\n",
       " '00',\n",
       " '11',\n",
       " '00',\n",
       " '00',\n",
       " '00',\n",
       " '00',\n",
       " '00',\n",
       " '11',\n",
       " '00',\n",
       " '00',\n",
       " '00',\n",
       " '00',\n",
       " '11',\n",
       " '00',\n",
       " '00',\n",
       " '11',\n",
       " '11',\n",
       " '00',\n",
       " '00',\n",
       " '00',\n",
       " '00',\n",
       " '00',\n",
       " '11',\n",
       " '00',\n",
       " '11',\n",
       " '00',\n",
       " '00',\n",
       " '00',\n",
       " '00',\n",
       " '11',\n",
       " '00',\n",
       " '00',\n",
       " '00',\n",
       " '11',\n",
       " '11',\n",
       " '00',\n",
       " '00',\n",
       " '11',\n",
       " '00',\n",
       " '00',\n",
       " '00',\n",
       " '00',\n",
       " '00',\n",
       " '00',\n",
       " '00',\n",
       " '00',\n",
       " '11',\n",
       " '00',\n",
       " '00',\n",
       " '00',\n",
       " '11',\n",
       " '00',\n",
       " '00',\n",
       " '00',\n",
       " '00',\n",
       " '00',\n",
       " '00',\n",
       " '11',\n",
       " '11',\n",
       " '11',\n",
       " '00',\n",
       " '00',\n",
       " '11',\n",
       " '11',\n",
       " '11',\n",
       " '11',\n",
       " '00',\n",
       " '00',\n",
       " '11',\n",
       " '00',\n",
       " '00',\n",
       " '00',\n",
       " '11',\n",
       " '00',\n",
       " '00',\n",
       " '00',\n",
       " '00',\n",
       " '00',\n",
       " '00',\n",
       " '11',\n",
       " '11',\n",
       " '00',\n",
       " '00',\n",
       " '00',\n",
       " '11',\n",
       " '00',\n",
       " '11',\n",
       " '00',\n",
       " '00',\n",
       " '00',\n",
       " '00',\n",
       " '00',\n",
       " '11',\n",
       " '11',\n",
       " '00',\n",
       " '00',\n",
       " '00',\n",
       " '00',\n",
       " '00',\n",
       " '11',\n",
       " '00',\n",
       " '00',\n",
       " '00',\n",
       " '00',\n",
       " '11',\n",
       " '00',\n",
       " '00',\n",
       " '00',\n",
       " '00',\n",
       " '00',\n",
       " '00',\n",
       " '00',\n",
       " '11',\n",
       " '00',\n",
       " '11',\n",
       " '00',\n",
       " '11',\n",
       " '00',\n",
       " '00',\n",
       " '00',\n",
       " '11',\n",
       " '00',\n",
       " '00',\n",
       " '00',\n",
       " '11',\n",
       " '00',\n",
       " '00',\n",
       " '00',\n",
       " '00',\n",
       " '00',\n",
       " '00',\n",
       " '00',\n",
       " '00',\n",
       " '00',\n",
       " '11',\n",
       " '00',\n",
       " '00',\n",
       " '00',\n",
       " '11',\n",
       " '00',\n",
       " '00',\n",
       " '00',\n",
       " '11',\n",
       " '00',\n",
       " '00',\n",
       " '00',\n",
       " '11',\n",
       " '00',\n",
       " '11',\n",
       " '00',\n",
       " '11',\n",
       " '11',\n",
       " '11',\n",
       " '00',\n",
       " '00',\n",
       " '00',\n",
       " '00',\n",
       " '00',\n",
       " '11',\n",
       " '00',\n",
       " '11',\n",
       " '00',\n",
       " '11',\n",
       " '00',\n",
       " '00',\n",
       " '11',\n",
       " '00',\n",
       " '00',\n",
       " '00',\n",
       " '00',\n",
       " '00',\n",
       " '00',\n",
       " '00',\n",
       " '00',\n",
       " '00',\n",
       " '11',\n",
       " '11',\n",
       " '00',\n",
       " '00',\n",
       " '00',\n",
       " '00',\n",
       " '00',\n",
       " '00',\n",
       " '11',\n",
       " '00',\n",
       " '00',\n",
       " '00',\n",
       " '00',\n",
       " '00',\n",
       " '11',\n",
       " '11',\n",
       " '00',\n",
       " '00',\n",
       " '11',\n",
       " '11',\n",
       " '00',\n",
       " '00',\n",
       " '11',\n",
       " '11',\n",
       " '00',\n",
       " '11',\n",
       " '11',\n",
       " '00',\n",
       " '11',\n",
       " '00',\n",
       " '00',\n",
       " '00',\n",
       " '00',\n",
       " '11',\n",
       " '00',\n",
       " '00',\n",
       " '11',\n",
       " '00',\n",
       " '00',\n",
       " '11',\n",
       " '11',\n",
       " '00',\n",
       " '00',\n",
       " '00',\n",
       " '00',\n",
       " '11',\n",
       " '00',\n",
       " '00',\n",
       " '11',\n",
       " '00',\n",
       " '00',\n",
       " '00',\n",
       " '11',\n",
       " '00',\n",
       " '00',\n",
       " '00',\n",
       " '00',\n",
       " '11',\n",
       " '00',\n",
       " '00',\n",
       " '00',\n",
       " '11',\n",
       " '11',\n",
       " '00',\n",
       " '00',\n",
       " '00',\n",
       " '11',\n",
       " '11',\n",
       " '00',\n",
       " '00',\n",
       " '00',\n",
       " '00',\n",
       " '00',\n",
       " '00',\n",
       " '00',\n",
       " '00',\n",
       " '00',\n",
       " '00',\n",
       " '00',\n",
       " '00',\n",
       " '00',\n",
       " '11',\n",
       " '00',\n",
       " '00',\n",
       " '00',\n",
       " '00',\n",
       " '11',\n",
       " '00',\n",
       " '11',\n",
       " '00',\n",
       " '00',\n",
       " '11',\n",
       " '00',\n",
       " '00',\n",
       " '00',\n",
       " '00',\n",
       " '00',\n",
       " '00',\n",
       " '00',\n",
       " '11',\n",
       " '00',\n",
       " '00',\n",
       " '00',\n",
       " '00',\n",
       " '11',\n",
       " '00',\n",
       " '00',\n",
       " '00',\n",
       " '11',\n",
       " '00',\n",
       " '00',\n",
       " '00',\n",
       " '00',\n",
       " '11',\n",
       " '00',\n",
       " '00',\n",
       " '00',\n",
       " '11',\n",
       " '00',\n",
       " '00',\n",
       " '11',\n",
       " '11',\n",
       " '11',\n",
       " '00',\n",
       " '11',\n",
       " '00',\n",
       " '00',\n",
       " '00',\n",
       " '00',\n",
       " '11',\n",
       " '11',\n",
       " '11',\n",
       " '00',\n",
       " '00',\n",
       " '00',\n",
       " '00',\n",
       " '00',\n",
       " '00',\n",
       " '00',\n",
       " '11',\n",
       " '00',\n",
       " '00',\n",
       " '00',\n",
       " '11',\n",
       " '00',\n",
       " '00',\n",
       " '11',\n",
       " '00',\n",
       " '11',\n",
       " '11',\n",
       " '00',\n",
       " '11',\n",
       " '00',\n",
       " '11',\n",
       " '00',\n",
       " '00',\n",
       " '00',\n",
       " '00',\n",
       " '00',\n",
       " '00',\n",
       " '00',\n",
       " '00',\n",
       " '00',\n",
       " '00',\n",
       " '11',\n",
       " '00',\n",
       " '00',\n",
       " '00',\n",
       " '11',\n",
       " '00',\n",
       " '11',\n",
       " '00',\n",
       " '11',\n",
       " '00',\n",
       " '00',\n",
       " '00',\n",
       " '00',\n",
       " '11',\n",
       " '00',\n",
       " '00',\n",
       " '00',\n",
       " '11',\n",
       " '00',\n",
       " '00',\n",
       " '00',\n",
       " '00',\n",
       " '00',\n",
       " '00',\n",
       " '00',\n",
       " '00',\n",
       " '00',\n",
       " '11',\n",
       " '00',\n",
       " '11',\n",
       " '11',\n",
       " '11',\n",
       " '00',\n",
       " '00',\n",
       " '00',\n",
       " '11',\n",
       " '00',\n",
       " '00',\n",
       " '00',\n",
       " '00',\n",
       " '00',\n",
       " '00',\n",
       " '00',\n",
       " '00',\n",
       " '11',\n",
       " '00',\n",
       " '00',\n",
       " '00',\n",
       " '00',\n",
       " '00',\n",
       " '11',\n",
       " '00',\n",
       " '00',\n",
       " '11',\n",
       " '00',\n",
       " '00',\n",
       " '00',\n",
       " '00',\n",
       " '00',\n",
       " '11',\n",
       " '11',\n",
       " '00',\n",
       " '00',\n",
       " '00',\n",
       " '11',\n",
       " '00',\n",
       " '11',\n",
       " '00',\n",
       " '00',\n",
       " '00',\n",
       " '00',\n",
       " '00',\n",
       " '11',\n",
       " '00',\n",
       " '00',\n",
       " '00',\n",
       " '11',\n",
       " '00',\n",
       " '00',\n",
       " '00',\n",
       " '00',\n",
       " '00',\n",
       " '00',\n",
       " '11',\n",
       " '00',\n",
       " '00',\n",
       " '00',\n",
       " '00',\n",
       " '11',\n",
       " '11',\n",
       " '00',\n",
       " '00',\n",
       " '00',\n",
       " '00',\n",
       " '00',\n",
       " '00',\n",
       " '00',\n",
       " '00',\n",
       " '00',\n",
       " '00',\n",
       " '00',\n",
       " '00',\n",
       " '00',\n",
       " '11',\n",
       " '00',\n",
       " '00',\n",
       " '00',\n",
       " '00',\n",
       " '00',\n",
       " '00',\n",
       " '00',\n",
       " '00',\n",
       " '00',\n",
       " '00',\n",
       " '00',\n",
       " '11',\n",
       " '11',\n",
       " '00',\n",
       " '00',\n",
       " '00',\n",
       " '11',\n",
       " '00',\n",
       " '00',\n",
       " '00',\n",
       " '11',\n",
       " '00',\n",
       " '00',\n",
       " '00',\n",
       " '11',\n",
       " '11',\n",
       " '11',\n",
       " '11',\n",
       " '00',\n",
       " '00',\n",
       " '11',\n",
       " '11',\n",
       " '00',\n",
       " '11',\n",
       " '11',\n",
       " '00',\n",
       " '00',\n",
       " '00',\n",
       " '00',\n",
       " '00',\n",
       " '11',\n",
       " '00',\n",
       " '11',\n",
       " '00',\n",
       " '00',\n",
       " '00',\n",
       " '00',\n",
       " '00',\n",
       " '00',\n",
       " '11',\n",
       " '00',\n",
       " '00',\n",
       " '00',\n",
       " '00',\n",
       " '00',\n",
       " '00',\n",
       " '11',\n",
       " '00',\n",
       " '11',\n",
       " '00',\n",
       " '00',\n",
       " '11',\n",
       " '00',\n",
       " '00',\n",
       " '11',\n",
       " '00',\n",
       " '00',\n",
       " '00',\n",
       " '11',\n",
       " '00',\n",
       " '11',\n",
       " '00',\n",
       " '00',\n",
       " '11',\n",
       " '00',\n",
       " '00',\n",
       " '00',\n",
       " '00',\n",
       " '00',\n",
       " '00',\n",
       " '00',\n",
       " '11',\n",
       " '11',\n",
       " '00',\n",
       " '00',\n",
       " '00',\n",
       " '00',\n",
       " '00',\n",
       " '00',\n",
       " '00',\n",
       " '00',\n",
       " '00',\n",
       " '11',\n",
       " '00',\n",
       " '00',\n",
       " '00',\n",
       " '00',\n",
       " '00',\n",
       " '00',\n",
       " '11',\n",
       " '00',\n",
       " '00',\n",
       " '00',\n",
       " '11',\n",
       " '00',\n",
       " '00',\n",
       " '00',\n",
       " '00',\n",
       " '11',\n",
       " '00',\n",
       " '11',\n",
       " '00',\n",
       " '00',\n",
       " '00',\n",
       " '00',\n",
       " '11',\n",
       " '00',\n",
       " '11',\n",
       " '00',\n",
       " '11',\n",
       " '11',\n",
       " '00',\n",
       " '00',\n",
       " '00',\n",
       " '00',\n",
       " '00',\n",
       " '00',\n",
       " '00',\n",
       " '00',\n",
       " '11',\n",
       " '11',\n",
       " '00',\n",
       " '00',\n",
       " '00',\n",
       " '00',\n",
       " '00',\n",
       " '00',\n",
       " '00',\n",
       " '00',\n",
       " '00',\n",
       " '00',\n",
       " '00',\n",
       " '00',\n",
       " '11',\n",
       " '11',\n",
       " '00',\n",
       " '11',\n",
       " '00',\n",
       " '00',\n",
       " '11',\n",
       " '00',\n",
       " '00',\n",
       " '00',\n",
       " '00',\n",
       " '00',\n",
       " '00',\n",
       " '00',\n",
       " '00',\n",
       " '11',\n",
       " '00',\n",
       " '00',\n",
       " '00',\n",
       " '00',\n",
       " '00',\n",
       " '00',\n",
       " '00',\n",
       " '00',\n",
       " '00',\n",
       " '00',\n",
       " '11',\n",
       " '11',\n",
       " '00',\n",
       " '00',\n",
       " '11',\n",
       " '00',\n",
       " '00',\n",
       " '00',\n",
       " '11',\n",
       " '11',\n",
       " '00',\n",
       " '00',\n",
       " '11',\n",
       " '11',\n",
       " '11',\n",
       " '11',\n",
       " '00',\n",
       " '00',\n",
       " '00',\n",
       " '00',\n",
       " '00',\n",
       " '11',\n",
       " '00',\n",
       " '11',\n",
       " '00',\n",
       " '00',\n",
       " '00',\n",
       " '11',\n",
       " '00',\n",
       " '11',\n",
       " '11',\n",
       " '00',\n",
       " '00',\n",
       " '11',\n",
       " '00',\n",
       " '11',\n",
       " '00',\n",
       " '00',\n",
       " '00',\n",
       " '00',\n",
       " '11',\n",
       " '00',\n",
       " '11',\n",
       " '00',\n",
       " '00']"
      ]
     },
     "execution_count": 43,
     "metadata": {},
     "output_type": "execute_result"
    }
   ],
   "source": [
    "meas.get_bitstrings()"
   ]
  },
  {
   "cell_type": "code",
   "execution_count": 44,
   "id": "724d84b9-4579-48d4-999b-cdfedd7b5276",
   "metadata": {},
   "outputs": [
    {
     "data": {
      "image/png": "[encoded data removed]",
      "text/plain": [
       "<Figure size 640x480 with 1 Axes>"
      ]
     },
     "execution_count": 44,
     "metadata": {},
     "output_type": "execute_result"
    }
   ],
   "source": [
    "from qiskit.visualization import plot_histogram\n",
    "\n",
    "plot_histogram(counts)"
   ]
  },
  {
   "cell_type": "markdown",
   "id": "484d31d8-22ff-4274-9a51-3c7fa0140407",
   "metadata": {},
   "source": [
    "### Calculating expectation value from probability distribution"
   ]
  },
  {
   "cell_type": "markdown",
   "id": "27cdea55-3e35-4fa9-9336-1da32396054f",
   "metadata": {},
   "source": [
    "#### For observables diagonal in Z basis"
   ]
  },
  {
   "cell_type": "markdown",
   "id": "1175dbae-99e2-4690-b750-f0deb67ba38d",
   "metadata": {},
   "source": [
    "Let us assume that you want to calculate the expectation value of $\\langle ZZ \\rangle$ for the Bell state. You can do that by using the *sampled_expectation_value* function, and the *SparsePauliOp* class for observables."
   ]
  },
  {
   "cell_type": "code",
   "execution_count": 45,
   "id": "23cc99a9-4db5-4553-b91a-c32d1b81fe6d",
   "metadata": {},
   "outputs": [
    {
     "data": {
      "text/plain": [
       "SparsePauliOp(['ZZ'],\n",
       "              coeffs=[1.+0.j])"
      ]
     },
     "execution_count": 45,
     "metadata": {},
     "output_type": "execute_result"
    }
   ],
   "source": [
    "from qiskit.quantum_info import SparsePauliOp\n",
    "\n",
    "observable_zz = SparsePauliOp('ZZ')\n",
    "observable_zz"
   ]
  },
  {
   "cell_type": "code",
   "execution_count": 46,
   "id": "a1d812d8-9ab5-4312-bf26-6fb6201fdba1",
   "metadata": {},
   "outputs": [
    {
     "name": "stdout",
     "output_type": "stream",
     "text": [
      "Expectation value of <ZZ> is 1.0\n"
     ]
    }
   ],
   "source": [
    "from qiskit.result import sampled_expectation_value\n",
    "\n",
    "expval_zz = sampled_expectation_value(counts, observable_zz)\n",
    "print(f'Expectation value of <ZZ> is {expval_zz}')"
   ]
  },
  {
   "cell_type": "markdown",
   "id": "c5e636dd-47bd-4e7d-a87f-0f835a1aa2e8",
   "metadata": {},
   "source": [
    "You can similarly calculate the expcation value of observables like, say, $\\langle ZI \\rangle$."
   ]
  },
  {
   "cell_type": "code",
   "execution_count": 47,
   "id": "6272aa97-df3d-4c51-af94-958840e5d65d",
   "metadata": {},
   "outputs": [
    {
     "name": "stdout",
     "output_type": "stream",
     "text": [
      "Expectation value of <ZI> is 0.464\n"
     ]
    }
   ],
   "source": [
    "observable_zi = SparsePauliOp('ZI')\n",
    "expval_zi = sampled_expectation_value(counts, observable_zi)\n",
    "print(f'Expectation value of <ZI> is {expval_zi}')"
   ]
  },
  {
   "cell_type": "markdown",
   "id": "962e0582-a36e-4134-aeec-aa6ca74ab858",
   "metadata": {},
   "source": [
    "Note that we know the ideal expecation value of $\\langle ZI \\rangle$ is 0. But that is in the range of infinite shots. The more you increase the number of shots, the closer will this value be to 0."
   ]
  },
  {
   "cell_type": "markdown",
   "id": "2ce9224f-bfb5-4006-a4f2-c24e677d38e7",
   "metadata": {},
   "source": [
    "#### For observables which are not diagonal in Z basis"
   ]
  },
  {
   "cell_type": "markdown",
   "id": "c6064ab0-45b6-40f1-a356-d5758bc0b1ae",
   "metadata": {},
   "source": [
    "##### X type observables"
   ]
  },
  {
   "cell_type": "markdown",
   "id": "a5ec31cf-1307-47fb-be1c-379d6a87f83b",
   "metadata": {},
   "source": [
    "If the observable is not diagonal in $Z$ basis, then it is necessary to change the measurement basis. But quantum hardware can measure only in $Z$ basis. So we apply a unitary *before measurement* in order to set the correct rotation. For measurement in $X$ basis, we need to add a Hadamard gate before measurement since HZH = X.\n",
    "\n",
    "Let us measure the expectation value of $\\langle XX \\rangle$."
   ]
  },
  {
   "cell_type": "code",
   "execution_count": 48,
   "id": "71862eb0-20a5-402b-8f1b-2c7286e9a7e5",
   "metadata": {},
   "outputs": [
    {
     "data": {
      "image/png": "[encoded data removed]",
      "text/plain": [
       "<Figure size 663.998x284.278 with 1 Axes>"
      ]
     },
     "execution_count": 48,
     "metadata": {},
     "output_type": "execute_result"
    }
   ],
   "source": [
    "qc_x = qc.copy()\n",
    "qc_x.remove_final_measurements()\n",
    "qc_x.h([0,1]) # these hadamard gates ensure that now measurement is in X basis\n",
    "qc_x.measure_all()\n",
    "\n",
    "qc_x.draw('mpl')"
   ]
  },
  {
   "cell_type": "code",
   "execution_count": 50,
   "id": "22eed0c3-0d1e-4f64-8d87-90d24d09e974",
   "metadata": {},
   "outputs": [
    {
     "data": {
      "image/png": "[encoded data removed]",
      "text/plain": [
       "<Figure size 640x480 with 1 Axes>"
      ]
     },
     "execution_count": 50,
     "metadata": {},
     "output_type": "execute_result"
    }
   ],
   "source": [
    "pub_x = (qc_x, pi/3)\n",
    "counts_x = sampler.run([pub_x]).result()[0].data.meas.get_counts()\n",
    "plot_histogram(counts_x)"
   ]
  },
  {
   "cell_type": "markdown",
   "id": "97e42913-55c4-4fe0-bb54-c2d159c26430",
   "metadata": {},
   "source": [
    "This is the expected result since a Bell state is entangled in all spin directions.\n",
    "\n",
    "Note that we have already rotated our measurement basis. So now, we need to calculate the expectation value of $\\langle ZZ \\rangle$, not $\\langle XX \\rangle$. The rotation using Hadamard gate ensured that now we can simply calculate along $Z$ basis to obtain the correct expectation value.\n",
    "\n",
    "So now I shall use the counts from this new experiment, but use $\\langle ZZ \\rangle$ observable to calculate the expectation value."
   ]
  },
  {
   "cell_type": "code",
   "execution_count": 51,
   "id": "4187728f-e6e1-4570-b543-4831388e545b",
   "metadata": {},
   "outputs": [
    {
     "name": "stdout",
     "output_type": "stream",
     "text": [
      "Expectation value of <XX> is -0.002\n"
     ]
    }
   ],
   "source": [
    "expval_xx = sampled_expectation_value(counts_x, observable_zz)\n",
    "print(f'Expectation value of <XX> is {expval_xx}')"
   ]
  },
  {
   "cell_type": "markdown",
   "id": "b214b2e0-85de-4c1c-8fbc-c23f280bee98",
   "metadata": {},
   "source": [
    "##### Y type observables"
   ]
  },
  {
   "cell_type": "markdown",
   "id": "e74d0642-59c0-4753-be84-5af1cbb2b67a",
   "metadata": {},
   "source": [
    "For Y type observable, we need to apply a Hadamard gate followed by a $S^{\\dagger}$ gate before measurement. This rotation ensures measurement Y basis."
   ]
  },
  {
   "cell_type": "markdown",
   "id": "e3aad8bd-992d-4090-81e1-102840762a82",
   "metadata": {},
   "source": [
    "#### Finding the minimum number of circuits"
   ]
  },
  {
   "cell_type": "markdown",
   "id": "17df47ea-2a2c-43fa-89ab-36b28eb92b9c",
   "metadata": {},
   "source": [
    "Let us assume that you want to calculate the expectation values of multiple observables on the circuit: say 1. $\\langle ZI \\rangle$, 2. $\\langle ZX \\rangle$, 3. $\\langle YX \\rangle$, 4. $\\langle IX \\rangle$.\n",
    "\n",
    "Note that for these four observables, the brute-force method will be to create four different circuits to measure these. But if two observables commute qubit-wise, then a single circuit is sufficient to calculate the expectation value of both the observables.\n",
    "\n",
    "In this example, $[ZI, IX] = 0$, $[ZI, ZX] = 0$ and $[ZX, IX] = 0$. Therefore, it is possible to construct a single circuits to measure all three of these observables. Another circuit is required to measure $\\langle YX \\rangle$. Therefore, only two circuits are sufficient.\n",
    "\n",
    "<b>Food for thought</b>: What should be the rotations for the measurement on each circuit so that we can measure $\\langle ZI \\rangle$, $\\langle ZX \\rangle$ and $\\langle IX \\rangle$ using a single circuit?\n",
    "\n",
    "<b>All these intricate calculations on the minimum number of circuits needed, the rotation required for each qubit are taken care of by the Qiskit Runtime Primitive: Estimator</b>."
   ]
  },
  {
   "cell_type": "markdown",
   "id": "d105f66c-d465-4982-9d6c-5de67314ec23",
   "metadata": {},
   "source": [
    "### Obtaining the expectation value: Introduction to Estimator"
   ]
  },
  {
   "cell_type": "code",
   "execution_count": 54,
   "id": "376e8a03-8aa4-409d-bf15-d8dafa6fa7f8",
   "metadata": {},
   "outputs": [],
   "source": [
    "from qiskit_ibm_runtime import EstimatorV2\n",
    "\n",
    "estimator = EstimatorV2(mode=backend)"
   ]
  },
  {
   "cell_type": "markdown",
   "id": "5a2c97d9-0434-457e-9ee3-0f6e16850eac",
   "metadata": {},
   "source": [
    "As we saw that measurement in different basis requires different rotation gates to be appended before measurement, so estimator jobs do not accept circuits with measurements. We need to submit circuits without measurement; estimator will add them with proper rotation gates."
   ]
  },
  {
   "cell_type": "code",
   "execution_count": 55,
   "id": "4fed002d-9ee1-42d5-a506-88d56a885f10",
   "metadata": {},
   "outputs": [
    {
     "data": {
      "image/png": "[encoded data removed]",
      "text/plain": [
       "<Figure size 287.294x200.667 with 1 Axes>"
      ]
     },
     "execution_count": 55,
     "metadata": {},
     "output_type": "execute_result"
    }
   ],
   "source": [
    "qc.remove_final_measurements()\n",
    "qc.draw('mpl')"
   ]
  },
  {
   "cell_type": "markdown",
   "id": "498c72e3-5f48-4e23-a6ca-df59cae4b1cd",
   "metadata": {},
   "source": [
    "Let us consider all four observables we took in the previous discussion, and also $ZZ$."
   ]
  },
  {
   "cell_type": "code",
   "execution_count": 56,
   "id": "b0a90580-371f-43f3-8cc1-61b047b2c53c",
   "metadata": {},
   "outputs": [
    {
     "data": {
      "text/plain": [
       "[SparsePauliOp(['ZI'],\n",
       "               coeffs=[1.+0.j]),\n",
       " SparsePauliOp(['ZX'],\n",
       "               coeffs=[1.+0.j]),\n",
       " SparsePauliOp(['YX'],\n",
       "               coeffs=[1.+0.j]),\n",
       " SparsePauliOp(['IX'],\n",
       "               coeffs=[1.+0.j]),\n",
       " SparsePauliOp(['ZZ'],\n",
       "               coeffs=[1.+0.j])]"
      ]
     },
     "execution_count": 56,
     "metadata": {},
     "output_type": "execute_result"
    }
   ],
   "source": [
    "observables = [\n",
    "    SparsePauliOp('ZI'),\n",
    "    SparsePauliOp('ZX'),\n",
    "    SparsePauliOp('YX'),\n",
    "    SparsePauliOp('IX'),\n",
    "    SparsePauliOp('ZZ')\n",
    "]\n",
    "\n",
    "observables"
   ]
  },
  {
   "cell_type": "markdown",
   "id": "d340f4c7-62a3-445e-8342-698635cc9a5a",
   "metadata": {},
   "source": [
    "Estimator takes a tuple (circuit, observable) as its input. As with sampler, we can provide multiple tuples together as an array. For this example, we only have one circuit with a set of observables -- leading to an array with a single tuple. So we need to consider the 0-th element of result."
   ]
  },
  {
   "cell_type": "code",
   "execution_count": 58,
   "id": "cd3e743d-a801-4311-b0c5-5c95e34be395",
   "metadata": {},
   "outputs": [],
   "source": [
    "pub = (qc, observables, pi/3)\n",
    "\n",
    "job = estimator.run([pub])\n",
    "result = job.result()[0]"
   ]
  },
  {
   "cell_type": "code",
   "execution_count": 59,
   "id": "6e98c838-b5a9-4028-b18d-9478adddcdc6",
   "metadata": {},
   "outputs": [
    {
     "data": {
      "text/plain": [
       "array([ 0.50097656, -0.02148438, -0.8515625 , -0.01611328,  1.        ])"
      ]
     },
     "execution_count": 59,
     "metadata": {},
     "output_type": "execute_result"
    }
   ],
   "source": [
    "expvals = result.data.evs\n",
    "expvals"
   ]
  },
  {
   "cell_type": "markdown",
   "id": "c019b804-64cc-43c9-bd01-97f4d2914740",
   "metadata": {},
   "source": [
    "Note that these expectation values suffer from statistical/shot noise. In other words, we would get the ideal expectation values if we can take inifnite shots."
   ]
  },
  {
   "cell_type": "markdown",
   "id": "8cf957d9-616b-49d5-992a-6da8ab4671f0",
   "metadata": {},
   "source": [
    "Now let us assume that the final value which we wanted to calculate was some linear combination of these expectation values. For example: $O = 0.1\\langle ZI \\rangle - 0.5\\langle ZX \\rangle + 0.3\\langle YX \\rangle + 0.2\\langle IX \\rangle - 0.4\\langle ZZ \\rangle$.\n",
    "\n",
    "We already have the individual values, so we can easily calculate this linear combination."
   ]
  },
  {
   "cell_type": "code",
   "execution_count": 60,
   "id": "a57c7c0e-cb6f-4849-a690-abff8c615ebc",
   "metadata": {},
   "outputs": [
    {
     "name": "stdout",
     "output_type": "stream",
     "text": [
      "Value of the linear combination is -0.5978515625\n"
     ]
    }
   ],
   "source": [
    "combination = 0.1*expvals[0] - 0.5*expvals[1] + 0.3*expvals[2] + 0.2*expvals[3] - 0.4*expvals[4]\n",
    "print(f'Value of the linear combination is {combination}')"
   ]
  },
  {
   "cell_type": "markdown",
   "id": "ff310ed1-0bdb-477b-838c-b950c8d988fa",
   "metadata": {},
   "source": [
    "#### Using SparsePauliOp with proper coefficients"
   ]
  },
  {
   "cell_type": "markdown",
   "id": "6980f373-6ec9-4809-89da-fb2a859ddd84",
   "metadata": {},
   "source": [
    "Instead of having an array of individual observables, and then calculating the combination manually, one can also set the whole thing as a single observable $O$ where each Pauli has a corresponding coefficient."
   ]
  },
  {
   "cell_type": "code",
   "execution_count": 61,
   "id": "4436b9bf-fca4-42f2-a84f-5459c2679ab6",
   "metadata": {},
   "outputs": [
    {
     "data": {
      "text/plain": [
       "SparsePauliOp(['ZI', 'ZX', 'YX', 'IX', 'ZZ'],\n",
       "              coeffs=[ 0.1+0.j, -0.5+0.j,  0.3+0.j,  0.2+0.j, -0.4+0.j])"
      ]
     },
     "execution_count": 61,
     "metadata": {},
     "output_type": "execute_result"
    }
   ],
   "source": [
    "obs = SparsePauliOp(['ZI','ZX','YX','IX','ZZ'], coeffs=[0.1,-0.5,0.3,0.2,-0.4])\n",
    "obs"
   ]
  },
  {
   "cell_type": "markdown",
   "id": "b1dee91f-c72e-40e8-ba79-ffd9163333dd",
   "metadata": {},
   "source": [
    "Note now that this is a single observable. If we compute with this observable, we won't obtain the expectation values for individual terms, rather will obtain the expectation value of $O = 0.1\\langle ZI \\rangle - 0.5\\langle ZX \\rangle + 0.3\\langle YX \\rangle + 0.2\\langle IX \\rangle - 0.4\\langle ZZ \\rangle$."
   ]
  },
  {
   "cell_type": "code",
   "execution_count": 66,
   "id": "409f4595-f76c-45eb-a738-542c25b70074",
   "metadata": {},
   "outputs": [],
   "source": [
    "pub = (qc, obs, pi/3)\n",
    "job = estimator.run([pub])\n",
    "result = job.result()[0]"
   ]
  },
  {
   "cell_type": "code",
   "execution_count": 67,
   "id": "09dddd74-9646-444d-8fc8-f2b0d0688721",
   "metadata": {},
   "outputs": [],
   "source": [
    "expval_combined = result.data.evs"
   ]
  },
  {
   "cell_type": "code",
   "execution_count": 68,
   "id": "1dbfe050-efc3-45e0-9934-b86c4119d608",
   "metadata": {},
   "outputs": [
    {
     "name": "stdout",
     "output_type": "stream",
     "text": [
      "The expectation value of O is -0.59921875\n"
     ]
    }
   ],
   "source": [
    "print(f'The expectation value of O is {expval_combined}')"
   ]
  },
  {
   "cell_type": "markdown",
   "id": "e1841057-4846-4123-abf3-1d5c768fc41f",
   "metadata": {},
   "source": [
    "### Running on fake hardware"
   ]
  },
  {
   "cell_type": "markdown",
   "id": "30ecf41b-d7d1-4e14-8327-a26e0682b21a",
   "metadata": {},
   "source": [
    "Now we show an example of obtaining expectation value on noisy backend. Instead of running on real backend, we show on Fake Backend, which contains most of the properties (e.g., coupling map, noise profile) of real backend."
   ]
  },
  {
   "cell_type": "code",
   "execution_count": 69,
   "id": "bb4b1a5c-0c15-4a00-8903-52102d9fde75",
   "metadata": {},
   "outputs": [],
   "source": [
    "from qiskit_ibm_runtime.fake_provider import FakeKolkataV2\n",
    "\n",
    "fake_backend = FakeKolkataV2()"
   ]
  },
  {
   "cell_type": "markdown",
   "id": "1ea46919-ce86-4042-8d15-e1e1ed9a4ab9",
   "metadata": {},
   "source": [
    "We can visualize the properties of this backend."
   ]
  },
  {
   "cell_type": "code",
   "execution_count": 70,
   "id": "20625bc8-1adb-4350-8ccb-1f8f8e631ddb",
   "metadata": {},
   "outputs": [
    {
     "data": {
      "image/png": "[encoded data removed]",
      "text/plain": [
       "<Figure size 1500x1200 with 5 Axes>"
      ]
     },
     "execution_count": 70,
     "metadata": {},
     "output_type": "execute_result"
    }
   ],
   "source": [
    "from qiskit.visualization import plot_error_map\n",
    "\n",
    "plot_error_map(fake_backend, show_title=False)"
   ]
  },
  {
   "cell_type": "markdown",
   "id": "8cca5a61-e721-49cd-a9e1-fd8860f7f3f8",
   "metadata": {},
   "source": [
    "In order to run a circuit on the real backend (or fake backend as in this example), it is necessary to transpile the circuit. Transpilation maps the circuit to the basis gates of the backend, and adds swap gates whenever necessary to make the circuit amenable to the coupling map."
   ]
  },
  {
   "cell_type": "code",
   "execution_count": 71,
   "id": "21e5be0c-2472-49f2-a234-e5779afa4f4b",
   "metadata": {},
   "outputs": [],
   "source": [
    "from qiskit.transpiler.preset_passmanagers import generate_preset_pass_manager\n",
    "\n",
    "pm = generate_preset_pass_manager(optimization_level=3, backend=fake_backend)"
   ]
  },
  {
   "cell_type": "code",
   "execution_count": 72,
   "id": "18d19373-0d87-430b-973a-5fcbf8ac276c",
   "metadata": {},
   "outputs": [
    {
     "data": {
      "text/plain": [
       "('init', 'layout', 'routing', 'translation', 'optimization', 'scheduling')"
      ]
     },
     "execution_count": 72,
     "metadata": {},
     "output_type": "execute_result"
    }
   ],
   "source": [
    "pm.stages"
   ]
  },
  {
   "cell_type": "code",
   "execution_count": 73,
   "id": "5b1a05cb-e13e-4a70-8a03-44a5b97c4873",
   "metadata": {},
   "outputs": [
    {
     "data": {
      "image/png": "[encoded data removed]",
      "text/plain": [
       "<Figure size 621.739x200.667 with 1 Axes>"
      ]
     },
     "execution_count": 73,
     "metadata": {},
     "output_type": "execute_result"
    }
   ],
   "source": [
    "translation_qc = pm.translation.run(qc)\n",
    "translation_qc.draw('mpl')"
   ]
  },
  {
   "cell_type": "code",
   "execution_count": 74,
   "id": "3824b24f-a7f6-4cab-bf7d-e95e63842b74",
   "metadata": {},
   "outputs": [
    {
     "data": {
      "image/png": "[encoded data removed]",
      "text/plain": [
       "<Figure size 339.977x200.667 with 1 Axes>"
      ]
     },
     "execution_count": 74,
     "metadata": {},
     "output_type": "execute_result"
    }
   ],
   "source": [
    "layout_qc = pm.layout.run(qc)\n",
    "layout_qc.draw('mpl')"
   ]
  },
  {
   "cell_type": "code",
   "execution_count": 84,
   "id": "57e0871b-7abc-40f9-9965-efc2015135d7",
   "metadata": {},
   "outputs": [
    {
     "data": {
      "image/png": "[encoded data removed]",
      "text/plain": [
       "<Figure size 925.254x284.278 with 1 Axes>"
      ]
     },
     "execution_count": 84,
     "metadata": {},
     "output_type": "execute_result"
    }
   ],
   "source": [
    "isa_qc = pm.run(qc)\n",
    "isa_qc.measure_active()\n",
    "isa_qc.draw('mpl', idle_wires=False)"
   ]
  },
  {
   "cell_type": "code",
   "execution_count": 85,
   "id": "5ebcbaac-f4b3-4d46-bdeb-f570001facae",
   "metadata": {},
   "outputs": [],
   "source": [
    "isa_pub = (isa_qc, pi/3)\n",
    "sampler = SamplerV2(mode=fake_backend)\n",
    "noisy_job = sampler.run([isa_pub])\n",
    "noisy_result = noisy_job.result()[0]"
   ]
  },
  {
   "cell_type": "code",
   "execution_count": 87,
   "id": "6514397a-9941-40fe-a741-aac51a513555",
   "metadata": {},
   "outputs": [
    {
     "data": {
      "text/plain": [
       "{'11': 269, '00': 730, '10': 7, '01': 18}"
      ]
     },
     "execution_count": 87,
     "metadata": {},
     "output_type": "execute_result"
    }
   ],
   "source": [
    "noisy_counts = noisy_result.data.meas.get_counts()\n",
    "noisy_counts"
   ]
  },
  {
   "cell_type": "code",
   "execution_count": 88,
   "id": "0a509507-145a-4498-8451-6b6417683b13",
   "metadata": {},
   "outputs": [
    {
     "data": {
      "image/png": "[encoded data removed]",
      "text/plain": [
       "<Figure size 640x480 with 1 Axes>"
      ]
     },
     "execution_count": 88,
     "metadata": {},
     "output_type": "execute_result"
    }
   ],
   "source": [
    "plot_histogram(noisy_counts)"
   ]
  },
  {
   "cell_type": "markdown",
   "id": "ec80fb26-f446-4ceb-a3e9-b90eba7805af",
   "metadata": {},
   "source": [
    "### But let's look into expectation value"
   ]
  },
  {
   "cell_type": "code",
   "execution_count": 89,
   "id": "13ef3eef-d6e3-4c26-a9f9-aacda09f791e",
   "metadata": {},
   "outputs": [],
   "source": [
    "isa_qc.remove_final_measurements()"
   ]
  },
  {
   "cell_type": "markdown",
   "id": "042521ec-85d5-41a2-9b54-69718691186b",
   "metadata": {},
   "source": [
    "Note that our initial observable was of 2-qubits: $O = 0.1\\langle ZI \\rangle - 0.5\\langle ZX \\rangle + 0.3\\langle YX \\rangle + 0.2\\langle IX \\rangle - 0.4\\langle ZZ \\rangle$. But now, the virtual qubits have been mapped to physical qubits 8 and 9. Therefore, we need to take that into account in our observable as well."
   ]
  },
  {
   "cell_type": "code",
   "execution_count": 90,
   "id": "6a52b112-7505-46cd-8ab3-cd70640adb70",
   "metadata": {},
   "outputs": [
    {
     "data": {
      "text/plain": [
       "SparsePauliOp(['IIIIIIIIIIIIIIIIIZIIIIIIIII', 'IIIIIIIIIIIIIIIIIZXIIIIIIII', 'IIIIIIIIIIIIIIIIIYXIIIIIIII', 'IIIIIIIIIIIIIIIIIIXIIIIIIII', 'IIIIIIIIIIIIIIIIIZZIIIIIIII'],\n",
       "              coeffs=[ 0.1+0.j, -0.5+0.j,  0.3+0.j,  0.2+0.j, -0.4+0.j])"
      ]
     },
     "execution_count": 90,
     "metadata": {},
     "output_type": "execute_result"
    }
   ],
   "source": [
    "isa_obs = obs.apply_layout(isa_qc.layout)\n",
    "isa_obs"
   ]
  },
  {
   "cell_type": "code",
   "execution_count": 91,
   "id": "b34ef358-6c86-4337-9a5e-ccf5c4c98259",
   "metadata": {},
   "outputs": [],
   "source": [
    "from qiskit_ibm_runtime import EstimatorV2\n",
    "estimator = EstimatorV2(mode=fake_backend)"
   ]
  },
  {
   "cell_type": "code",
   "execution_count": 92,
   "id": "3b2fda0b-b839-428e-bb85-322386810dd8",
   "metadata": {},
   "outputs": [
    {
     "name": "stdout",
     "output_type": "stream",
     "text": [
      "Expectation value on a noisy backend is -0.5958984375\n"
     ]
    }
   ],
   "source": [
    "est_pub = (isa_qc, isa_obs, pi/3)\n",
    "job = estimator.run([est_pub])\n",
    "evs = job.result()[0].data.evs\n",
    "\n",
    "print(f'Expectation value on a noisy backend is {evs}')"
   ]
  },
  {
   "cell_type": "markdown",
   "id": "3d6942a3-9420-4c1c-b1ad-74589406888c",
   "metadata": {},
   "source": [
    "Here the circuit is small. Therefore, the effect of noise is minimal and not much apparent difference is observed between the noisy and ideal expectation value. However, for larger circuits, the difference will grow. There, using the suppression and mitigation methods from Estimator will be helpful to retrieve the ideal expectation value from the noisy one."
   ]
  },
  {
   "cell_type": "code",
   "execution_count": 82,
   "id": "8962a9ed-a805-43b0-b224-938c9e9ec950",
   "metadata": {},
   "outputs": [
    {
     "name": "stdout",
     "output_type": "stream",
     "text": [
      "qiskit runtime version 0.38.0\n",
      "qiskit aer version 0.17.0\n",
      "qiskit version 2.0.0\n"
     ]
    }
   ],
   "source": [
    "import qiskit_ibm_runtime\n",
    "import qiskit_aer\n",
    "import qiskit\n",
    "\n",
    "print(f\"qiskit runtime version {qiskit_ibm_runtime.version.get_version_info()}\")\n",
    "print(f\"qiskit aer version {qiskit_aer.version.get_version_info()}\")\n",
    "print(f\"qiskit version {qiskit.version.get_version_info()}\")"
   ]
  },
  {
   "cell_type": "code",
   "execution_count": null,
   "id": "97d3ba6f-64a6-4942-9dbb-78eb0ac8749e",
   "metadata": {},
   "outputs": [],
   "source": []
  }
 ],
 "metadata": {
  "kernelspec": {
   "display_name": "Python 3 (ipykernel)",
   "language": "python",
   "name": "python3"
  },
  "language_info": {
   "codemirror_mode": {
    "name": "ipython",
    "version": 3
   },
   "file_extension": ".py",
   "mimetype": "text/x-python",
   "name": "python",
   "nbconvert_exporter": "python",
   "pygments_lexer": "ipython3",
   "version": "3.13.3"
  }
 },
 "nbformat": 4,
 "nbformat_minor": 5
}
